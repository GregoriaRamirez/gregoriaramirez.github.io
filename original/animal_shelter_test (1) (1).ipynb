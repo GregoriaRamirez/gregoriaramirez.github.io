{
 "cells": [
  {
   "cell_type": "code",
   "execution_count": 13,
   "id": "f2cc77d9",
   "metadata": {},
   "outputs": [
    {
     "name": "stdout",
     "output_type": "stream",
     "text": [
      "MongoDB connection successful!\n"
     ]
    }
   ],
   "source": [
    "from animal_shelter import AnimalShelter\n",
    "\n",
    "# Create an instance of the AnimalShelter class\n",
    "shelter = AnimalShelter()\n",
    "print(\"MongoDB connection successful!\")\n"
   ]
  },
  {
   "cell_type": "code",
   "execution_count": 14,
   "id": "9e575929",
   "metadata": {},
   "outputs": [
    {
     "name": "stdout",
     "output_type": "stream",
     "text": [
      "Insert Result: True\n"
     ]
    }
   ],
   "source": [
    "# Test Create: Insert a new document into MongoDB\n",
    "new_animal = {\"name\": \"Bella\", \"species\": \"Cat\", \"age\": 2}\n",
    "insert_result = shelter.create(new_animal)\n",
    "print(\"Insert Result:\", insert_result)  # Should return True if successful\n"
   ]
  },
  {
   "cell_type": "code",
   "execution_count": 15,
   "id": "e77c40c6",
   "metadata": {},
   "outputs": [
    {
     "name": "stdout",
     "output_type": "stream",
     "text": [
      "Query Result: [{'_id': ObjectId('679bdf0dee63b62855bc6ea3'), 'name': 'Bella', 'species': 'Cat', 'age': 2}, {'_id': ObjectId('679bec86a7f27c4eeb7aed6a'), 'name': 'Bella', 'species': 'Cat', 'age': 2}]\n"
     ]
    }
   ],
   "source": [
    "# Test Read: Query documents from MongoDB\n",
    "query = {\"species\": \"Cat\"}\n",
    "read_result = shelter.read(query)\n",
    "print(\"Query Result:\", read_result)  # Should return a list of matching documents\n"
   ]
  },
  {
   "cell_type": "code",
   "execution_count": 7,
   "id": "34aee679",
   "metadata": {},
   "outputs": [
    {
     "name": "stdout",
     "output_type": "stream",
     "text": [
      "[{'name': 'Max', 'status': 'Neutered Male'}, {'name': 'Charlie', 'status': 'Neutered Male'}]\n"
     ]
    }
   ],
   "source": [
    "data = [\n",
    "    {\"name\": \"Max\", \"status\": \"Neutered Male\"},\n",
    "    {\"name\": \"Bella\", \"status\": \"Spayed Female\"},\n",
    "    {\"name\": \"Charlie\", \"status\": \"Neutered Male\"},\n",
    "    {\"name\": \"Lucy\", \"status\": \"Female\"}\n",
    "]\n",
    "\n",
    "query = {\"status\": \"Neutered Male\"}\n",
    "\n",
    "# Filter matching records\n",
    "filtered_data = [item for item in data if item.get(\"status\") == \"Neutered Male\"]\n",
    "\n",
    "print(filtered_data)\n"
   ]
  },
  {
   "cell_type": "code",
   "execution_count": null,
   "id": "09e37de7",
   "metadata": {},
   "outputs": [],
   "source": []
  }
 ],
 "metadata": {
  "kernelspec": {
   "display_name": "Python 3 (ipykernel)",
   "language": "python",
   "name": "python3"
  },
  "language_info": {
   "codemirror_mode": {
    "name": "ipython",
    "version": 3
   },
   "file_extension": ".py",
   "mimetype": "text/x-python",
   "name": "python",
   "nbconvert_exporter": "python",
   "pygments_lexer": "ipython3",
   "version": "3.9.12"
  }
 },
 "nbformat": 4,
 "nbformat_minor": 5
}
